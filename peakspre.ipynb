{
  "nbformat": 4,
  "nbformat_minor": 0,
  "metadata": {
    "colab": {
      "name": "peakspre.ipynb",
      "provenance": [],
      "collapsed_sections": [],
      "include_colab_link": true
    },
    "kernelspec": {
      "name": "python3",
      "display_name": "Python 3"
    }
  },
  "cells": [
    {
      "cell_type": "markdown",
      "metadata": {
        "id": "view-in-github",
        "colab_type": "text"
      },
      "source": [
        "<a href=\"https://colab.research.google.com/github/Hadeelmas/wings-project-/blob/master/peakspre.ipynb\" target=\"_parent\"><img src=\"https://colab.research.google.com/assets/colab-badge.svg\" alt=\"Open In Colab\"/></a>"
      ]
    },
    {
      "cell_type": "code",
      "metadata": {
        "id": "MdGK9GhmGXdP",
        "colab_type": "code",
        "colab": {}
      },
      "source": [
        "cd /content/drive/My Drive/Mask_RCNN-master/Mask_RCNN-master"
      ],
      "execution_count": null,
      "outputs": []
    },
    {
      "cell_type": "code",
      "metadata": {
        "id": "63wnSuClvB2D",
        "colab_type": "code",
        "colab": {}
      },
      "source": [
        "from google.colab import drive\n",
        "drive.mount('/content/drive')"
      ],
      "execution_count": null,
      "outputs": []
    },
    {
      "cell_type": "code",
      "metadata": {
        "id": "NUVkJakFHWJT",
        "colab_type": "code",
        "colab": {}
      },
      "source": [
        "!pip install tensorflow==1.13.1"
      ],
      "execution_count": null,
      "outputs": []
    },
    {
      "cell_type": "code",
      "metadata": {
        "id": "7AI_Ibc0Hne_",
        "colab_type": "code",
        "colab": {}
      },
      "source": [
        "!pip install keras==2.2.4"
      ],
      "execution_count": null,
      "outputs": []
    },
    {
      "cell_type": "code",
      "metadata": {
        "id": "K_2CIhWuIIHX",
        "colab_type": "code",
        "colab": {}
      },
      "source": [
        "!pip install -r requirements.txt"
      ],
      "execution_count": null,
      "outputs": []
    },
    {
      "cell_type": "code",
      "metadata": {
        "id": "s0Qpw1heIk8C",
        "colab_type": "code",
        "colab": {}
      },
      "source": [
        "!python setup.py install"
      ],
      "execution_count": null,
      "outputs": []
    },
    {
      "cell_type": "code",
      "metadata": {
        "id": "Ta36FioAJEgB",
        "colab_type": "code",
        "colab": {}
      },
      "source": [
        "cd /content/drive/My Drive/Mask_RCNN-master/Mask_RCNN-master/"
      ],
      "execution_count": null,
      "outputs": []
    },
    {
      "cell_type": "code",
      "metadata": {
        "id": "Z5tiAid1JT4X",
        "colab_type": "code",
        "colab": {}
      },
      "source": [
        "!pip install mrcnn"
      ],
      "execution_count": null,
      "outputs": []
    },
    {
      "cell_type": "code",
      "metadata": {
        "id": "4UEaUyU6LoXo",
        "colab_type": "code",
        "colab": {}
      },
      "source": [
        "!pip install Keras-Applications==1.0.8 "
      ],
      "execution_count": null,
      "outputs": []
    },
    {
      "cell_type": "code",
      "metadata": {
        "id": "QU_0M3et91OD",
        "colab_type": "code",
        "colab": {}
      },
      "source": [
        "from mrcnn.config import Config\n",
        "from mrcnn import model as modellib\n",
        "from mrcnn import visualize\n",
        "import mrcnn\n",
        "from mrcnn.utils import Dataset\n",
        "from mrcnn.model import MaskRCNN\n",
        "\n",
        "import numpy as np\n",
        "from numpy import zeros\n",
        "from numpy import asarray\n",
        "import colorsys\n",
        "import argparse\n",
        "import imutils\n",
        "import random\n",
        "import cv2\n",
        "import os\n",
        "import time\n",
        "import skimage\n",
        "from skimage import io\n",
        "from matplotlib import pyplot\n",
        "from matplotlib.patches import Rectangle\n",
        "from keras.models import load_model\n",
        "\n",
        "%matplotlib inline\n",
        "\n",
        "from os import listdir\n",
        "from xml.etree import ElementTree"
      ],
      "execution_count": null,
      "outputs": []
    },
    {
      "cell_type": "code",
      "metadata": {
        "id": "oF9iVrFc94Sh",
        "colab_type": "code",
        "colab": {}
      },
      "source": [
        "import os\n",
        "import sys\n",
        "import json\n",
        "import datetime\n",
        "import numpy as np\n",
        "import skimage.draw\n",
        "import cv2\n",
        "from keras.models import load_model\n",
        "from mrcnn.visualize import display_instances\n",
        "import matplotlib.pyplot as plt\n",
        "\n",
        "# Root directory of the project\n",
        "ROOT_DIR = os.path.abspath('/content/drive/My Drive/Mask_RCNN-master/Mask_RCNN-master')\n",
        "\n",
        "# Import Mask RCNN\n",
        "sys.path.append(ROOT_DIR)  # To find local version of the library\n",
        "from mrcnn.config import Config\n",
        "from mrcnn import model as modellib, utils\n",
        "\n",
        "# Path to trained weights file\n",
        "COCO_WEIGHTS_PATH = os.path.join(ROOT_DIR, \"mask_rcnn_coco.h5\")\n",
        "\n",
        "# Directory to save logs and model checkpoints, if not provided\n",
        "# through the command line argument --logs\n",
        "DEFAULT_LOGS_DIR = os.path.join(ROOT_DIR, \"logs\")\n",
        "\n",
        "############################################################\n",
        "#  Configurations\n",
        "############################################################\n",
        "\n",
        "\n",
        "class NmrpeakConfig(Config):\n",
        "    # give the configuration a recognizable name\n",
        "    NAME = \"peaks\"\n",
        " \n",
        "    # set the number of GPUs to use along with the number of images\n",
        "    # per GPU\n",
        "    GPU_COUNT = 1\n",
        "    IMAGES_PER_GPU = 1\n",
        " \n",
        "    # number of classes (we would normally add +1 for the background)\n",
        "     \n",
        "    NUM_CLASSES = 1+1\n",
        "   \n",
        "    # Number of training steps per epoch\n",
        "    STEPS_PER_EPOCH = 131\n",
        "    \n",
        "    # Learning rate\n",
        "    LEARNING_RATE=0.006\n",
        "    \n",
        "    # Skip detections with < 90% confidence\n",
        "    DETECTION_MIN_CONFIDENCE = 0.9\n",
        "    \n",
        "    # setting Max ground truth instances\n",
        "    MAX_GT_INSTANCES=10\n",
        "\n",
        "    \n",
        "config = NmrpeakConfig()\n",
        "config.display()\n",
        "  "
      ],
      "execution_count": null,
      "outputs": []
    },
    {
      "cell_type": "code",
      "metadata": {
        "id": "pi4SzOq4_kgq",
        "colab_type": "code",
        "colab": {}
      },
      "source": [
        "# initialize the Mask R-CNN model for inference \n",
        "print(\"Loading Mask R-CNN model...\")\n",
        "model = modellib.MaskRCNN(mode=\"training\", config=config, model_dir='./')"
      ],
      "execution_count": null,
      "outputs": []
    },
    {
      "cell_type": "code",
      "metadata": {
        "id": "h1xsW1FktLzR",
        "colab_type": "code",
        "colab": {}
      },
      "source": [
        "model.keras_model.summary()"
      ],
      "execution_count": null,
      "outputs": []
    },
    {
      "cell_type": "code",
      "metadata": {
        "id": "RnnoR1aDCA1L",
        "colab_type": "code",
        "colab": {}
      },
      "source": [
        "#n load the weights for COCO\n",
        "model.load_weights('/content/drive/My Drive/Mask_RCNN-master/Mask_RCNN-master/samples/peaks/mask_rcnn_coco.h5', \n",
        "                   by_name=True, \n",
        "                   exclude=[\"mrcnn_class_logits\", \"mrcnn_bbox_fc\",  \"mrcnn_bbox\", \"mrcnn_mask\"])"
      ],
      "execution_count": null,
      "outputs": []
    },
    {
      "cell_type": "code",
      "metadata": {
        "id": "6bcGnpwDKfdz",
        "colab_type": "code",
        "colab": {}
      },
      "source": [
        "cd /content/drive/My Drive/Mask_RCNN-master/Mask_RCNN-master/samples/peaks"
      ],
      "execution_count": null,
      "outputs": []
    },
    {
      "cell_type": "code",
      "metadata": {
        "id": "8r6-sAaeCWTu",
        "colab_type": "code",
        "colab": {}
      },
      "source": [
        "model.keras_model.summary()"
      ],
      "execution_count": null,
      "outputs": []
    },
    {
      "cell_type": "code",
      "metadata": {
        "id": "mXWa9N4QtfE9",
        "colab_type": "code",
        "colab": {}
      },
      "source": [
        "class NmrpeakDataset(Dataset):\n",
        "    # load the dataset definitions\n",
        "    def load_dataset(self, dataset_dir, is_train=True):\n",
        "        \n",
        "        # Add classes. We have only one class to add.\n",
        "        self.add_class(\"dataset\", 1, \"peak\")\n",
        "        \n",
        "        # define data locations for images and annotations\n",
        "        images_dir = dataset_dir \n",
        "        annotations_dir = ('/content/drive/My Drive/Mask_RCNN-master/Mask_RCNN-master/samples/peaks/annotation/')\n",
        "        \n",
        "        # Iterate through all files in the folder to \n",
        "        #add class, images and annotaions\n",
        "        for filename in listdir(images_dir):\n",
        "            \n",
        "            # extract image id\n",
        "            image_id = filename[:-4]\n",
        "            \n",
        "            # skip bad images\n",
        "            if image_id in ['00090']:\n",
        "                continue\n",
        "            # skip all images after 150 if we are building the train set\n",
        "            #if is_train and int(image_id) >= 150:\n",
        "               #continue\n",
        "            # skip all images before 150 if we are building the test/val set\n",
        "            #if not is_train and int(image_id) < 150:\n",
        "               # continue\n",
        "            \n",
        "            # setting image file\n",
        "            img_path = images_dir + filename\n",
        "            \n",
        "            # setting annotations file\n",
        "            ann_path = annotations_dir + image_id + '.xml'\n",
        "            \n",
        "            # adding images and annotations to dataset\n",
        "            self.add_image('dataset', image_id=image_id, path=img_path, annotation=ann_path)\n",
        "\n",
        "    # extract bounding boxes from an annotation file\n",
        "    def extract_boxes(self, filename):\n",
        "        \n",
        "        # load and parse the file\n",
        "        tree = ElementTree.parse(filename)\n",
        "        # get the root of the document\n",
        "        root = tree.getroot()\n",
        "        # extract each bounding box\n",
        "        boxes = list()\n",
        "        for box in root.findall('.//bndbox'):\n",
        "            xmin = int(box.find('xmin').text)\n",
        "            ymin = int(box.find('ymin').text)\n",
        "            xmax = int(box.find('xmax').text)\n",
        "            ymax = int(box.find('ymax').text)\n",
        "            coors = [xmin, ymin, xmax, ymax]\n",
        "            boxes.append(coors)\n",
        "        \n",
        "        # extract image dimensions\n",
        "        width = int(root.find('.//size/width').text)\n",
        "        height = int(root.find('.//size/height').text)\n",
        "        return boxes, width, height\n",
        "\n",
        "    # load the masks for an image\n",
        "    \"\"\"Generate instance masks for an image.\n",
        "       Returns:\n",
        "        masks: A bool array of shape [height, width, instance count] with\n",
        "            one mask per instance.\n",
        "        class_ids: a 1D array of class IDs of the instance masks.\n",
        "     \"\"\"\n",
        "    def load_mask(self, image_id):\n",
        "        # get details of image\n",
        "        info = self.image_info[image_id]\n",
        "        \n",
        "        # define anntation  file location\n",
        "        path = info['annotation']\n",
        "        \n",
        "        # load XML\n",
        "        boxes, w, h = self.extract_boxes(path)\n",
        "       \n",
        "        # create one array for all masks, each on a different channel\n",
        "        masks = zeros([h, w, len(boxes)], dtype='uint8')\n",
        "        \n",
        "        # create masks\n",
        "        class_ids = list()\n",
        "        for i in range(len(boxes)):\n",
        "            box = boxes[i]\n",
        "            row_s, row_e = box[1], box[3]\n",
        "            col_s, col_e = box[0], box[2]\n",
        "            masks[row_s:row_e, col_s:col_e, i] = 1\n",
        "            class_ids.append(self.class_names.index('peak'))\n",
        "        return masks, asarray(class_ids, dtype='int32')\n",
        "\n",
        "    # load an image reference\n",
        "    #Return the path of the image.\"\"\"\n",
        "    def image_reference(self, image_id):\n",
        "        info = self.image_info[image_id]\n",
        "        print(info)\n",
        "        return info['path']"
      ],
      "execution_count": null,
      "outputs": []
    },
    {
      "cell_type": "code",
      "metadata": {
        "id": "JhBUrOvCuweg",
        "colab_type": "code",
        "colab": {}
      },
      "source": [
        "# prepare train set\n",
        "train_set = NmrpeakDataset()\n",
        "train_set.load_dataset('/content/drive/My Drive/Mask_RCNN-master/Mask_RCNN-master/samples/peaks/dataset/train/', is_train=True)\n",
        "train_set.prepare()\n",
        "print('Train: %d' % len(train_set.image_ids))\n",
        "# prepare test/val set\n",
        "test_set = NmrpeakDataset()\n",
        "test_set.load_dataset('/content/drive/My Drive/Mask_RCNN-master/Mask_RCNN-master/samples/peaks/dataset/val/', is_train=False)\n",
        "test_set.prepare()\n",
        "print('Test: %d' % len(test_set.image_ids))"
      ],
      "execution_count": null,
      "outputs": []
    },
    {
      "cell_type": "code",
      "metadata": {
        "id": "nucnuahmLbXN",
        "colab_type": "code",
        "colab": {}
      },
      "source": [
        "!pip install imageio"
      ],
      "execution_count": null,
      "outputs": []
    },
    {
      "cell_type": "code",
      "metadata": {
        "id": "e8lmR1hqylrt",
        "colab_type": "code",
        "colab": {}
      },
      "source": [
        "# train weights (output layers or 'heads')\n",
        "## train heads with higher lr to speedup the learning\n",
        "model.train(train_set, test_set, learning_rate=config.LEARNING_RATE, epochs=5, layers='heads')\n",
        "\n",
        "history = model.keras_model.history.history"
      ],
      "execution_count": null,
      "outputs": []
    },
    {
      "cell_type": "code",
      "metadata": {
        "id": "JKyGtP8ZyrYE",
        "colab_type": "code",
        "colab": {}
      },
      "source": [
        "model.get_trainable_layers()"
      ],
      "execution_count": null,
      "outputs": []
    },
    {
      "cell_type": "code",
      "metadata": {
        "id": "dtc5IcuKF32K",
        "colab_type": "code",
        "colab": {}
      },
      "source": [
        "model_path = '/content/drive/My Drive/Mask_RCNN-master/Mask_RCNN-master/samples/peaks'  + '.' + str(time.time()) + '.h5'\n",
        "model.keras_model.save_weights(model_path)"
      ],
      "execution_count": null,
      "outputs": []
    },
    {
      "cell_type": "code",
      "metadata": {
        "id": "dKh9jmbJmyZU",
        "colab_type": "code",
        "colab": {}
      },
      "source": [
        "# class that defines and loads the kangaroo dataset\n",
        "\n",
        "\n",
        "# prepare config\n",
        "config = NmrpeakConfig()\n",
        "config.display()\n",
        "# define the model\n",
        "model = MaskRCNN(mode='training', model_dir='./', config=config)\n",
        "\n",
        "# load weights (mscoco) and exclude the output layers\n",
        "\n",
        "model.load_weights(model_path, by_name=True)\n",
        "# train weights (output layers or 'heads')\n",
        "#model.train(train_set, test_set, learning_rate=config.LEARNING_RATE, epochs=5, layers='heads')"
      ],
      "execution_count": null,
      "outputs": []
    },
    {
      "cell_type": "code",
      "metadata": {
        "id": "NAh5KDnFm0Rw",
        "colab_type": "code",
        "colab": {}
      },
      "source": [
        "# load an image\n",
        "image_id = 1\n",
        "image = test_set.load_image(image_id)\n",
        "print(image.shape)\n",
        "print(test_set.class_ids)\n",
        "# load image mask\n",
        "mask, class_ids = test_set.load_mask(image_id)\n",
        "\n",
        "print(mask.shape)\n",
        "print(class_ids)\n",
        "# plot image\n",
        "pyplot.imshow(image)\n",
        "# plot mask\n",
        "pyplot.imshow(mask[:, :, 0], cmap='gray', alpha=0.4)\n",
        "\n",
        "pyplot.show()"
      ],
      "execution_count": null,
      "outputs": []
    },
    {
      "cell_type": "code",
      "metadata": {
        "id": "9cXQLYIynGLK",
        "colab_type": "code",
        "colab": {}
      },
      "source": [
        "def get_ax(rows=1, cols=1, size=16):\n",
        "    \"\"\"Return a Matplotlib Axes array to be used in\n",
        "    all visualizations in the notebook. Provide a\n",
        "    central point to control graph sizes.\n",
        "    \n",
        "    Adjust the size attribute to control how big to render images\n",
        "    \"\"\"\n",
        "    _, ax = pyplot.subplots(rows, cols, figsize=(size*cols, size*rows))\n",
        "    return ax"
      ],
      "execution_count": null,
      "outputs": []
    },
    {
      "cell_type": "code",
      "metadata": {
        "id": "HFaseJ8_nKCT",
        "colab_type": "code",
        "colab": {}
      },
      "source": [
        "from keras.preprocessing.image import load_img\n",
        "from keras.preprocessing.image import img_to_array\n",
        "\n",
        "#Loading the model in the inference mode\n",
        "model = modellib.MaskRCNN(mode=\"inference\", config=config, model_dir='./')\n",
        "\n",
        "# loading the trained weights o the custom dataset\n",
        "model.load_weights(model_path, by_name=True)\n",
        "img = load_img(\"/content/drive/My Drive/Mask_RCNN-master/Mask_RCNN-master/samples/peaks/dataset/val/out13.png\")\n",
        "img = img_to_array(img)\n",
        "\n",
        "# detecting objects in the image\n",
        "result= model.detect([img])"
      ],
      "execution_count": null,
      "outputs": []
    },
    {
      "cell_type": "code",
      "metadata": {
        "id": "Hcfcv5WtnU8d",
        "colab_type": "code",
        "colab": {}
      },
      "source": [
        "#image_id = random.choice(test_set.image_ids)\n",
        "\n",
        "image_id = 2\n",
        "image, image_meta, gt_class_id, gt_bbox, gt_mask =    modellib.load_image_gt(test_set, config, image_id, use_mini_mask=False)\n",
        "info = test_set.image_info[image_id]\n",
        "print(\"image ID: {}.{} ({}) {}\".format(info[\"source\"], info[\"id\"], image_id, \n",
        "                                       test_set.image_reference(image_id)))\n",
        "# Run object detection\n",
        "results = model.detect([image], verbose=1)\n",
        "\n",
        "# Display results\n",
        "\n",
        "r = results[0]\n",
        "visualize.display_instances(image, r['rois'], r['masks'], r['class_ids'], \n",
        "                            test_set.class_names, r['scores'],\n",
        "                            title=\"Predictions\")"
      ],
      "execution_count": null,
      "outputs": []
    },
    {
      "cell_type": "code",
      "metadata": {
        "id": "lecQp5yOnZhv",
        "colab_type": "code",
        "colab": {}
      },
      "source": [
        "from mrcnn.visualize import display_instances\n",
        "r = result[0]\n",
        "print(r['rois'])"
      ],
      "execution_count": null,
      "outputs": []
    },
    {
      "cell_type": "code",
      "metadata": {
        "id": "9FdfQOtwnd19",
        "colab_type": "code",
        "colab": {}
      },
      "source": [
        "pyplot.imshow(image)\n",
        "# plot mask\n",
        "pyplot.imshow(r['scores'])\n",
        "pyplot.show()"
      ],
      "execution_count": null,
      "outputs": []
    },
    {
      "cell_type": "code",
      "metadata": {
        "id": "5nLj8ZK0n5yu",
        "colab_type": "code",
        "colab": {}
      },
      "source": [
        "# load an image\n",
        "image_id = np.random.randint(low=1,high=(len(train_files)-1))\n",
        "image = train_set.load_image(image_id)\n",
        "print(image.shape)\n",
        "# load image mask\n",
        "mask, class_ids = train_set.load_mask(image_id)\n",
        "print(mask.shape)\n",
        "# plot image\n",
        "pyplot.imshow(image)\n",
        "# plot mask\n",
        "pyplot.imshow(mask[:, :, 0], cmap='gray', alpha=.5)\n",
        "pyplot.show()"
      ],
      "execution_count": null,
      "outputs": []
    }
  ]
}